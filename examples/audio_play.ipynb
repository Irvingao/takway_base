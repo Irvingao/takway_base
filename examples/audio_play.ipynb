{
 "cells": [
  {
   "cell_type": "code",
   "execution_count": 4,
   "metadata": {},
   "outputs": [
    {
     "name": "stdout",
     "output_type": "stream",
     "text": [
      "Audio file loaded.\n"
     ]
    }
   ],
   "source": [
    "from takway.audio_utils import BaseAudio\n",
    "\n",
    "ba = BaseAudio(input=True)\n",
    "frames = ba.load_audio_file(\"example_recording.wav\")"
   ]
  },
  {
   "cell_type": "code",
   "execution_count": 5,
   "metadata": {},
   "outputs": [
    {
     "name": "stdout",
     "output_type": "stream",
     "text": [
      "Playing audio data...\n",
      "Audio data played.\n"
     ]
    }
   ],
   "source": [
    "from takway.audio_utils import AudioPlayer\n",
    "\n",
    "# 需要指定RATE, 默认为22050\n",
    "audio_player = AudioPlayer(RATE=16000)\n",
    "audio_player.play(frames)"
   ]
  },
  {
   "cell_type": "code",
   "execution_count": null,
   "metadata": {},
   "outputs": [],
   "source": []
  }
 ],
 "metadata": {
  "kernelspec": {
   "display_name": "vits",
   "language": "python",
   "name": "python3"
  },
  "language_info": {
   "codemirror_mode": {
    "name": "ipython",
    "version": 3
   },
   "file_extension": ".py",
   "mimetype": "text/x-python",
   "name": "python",
   "nbconvert_exporter": "python",
   "pygments_lexer": "ipython3",
   "version": "3.8.18"
  }
 },
 "nbformat": 4,
 "nbformat_minor": 2
}
