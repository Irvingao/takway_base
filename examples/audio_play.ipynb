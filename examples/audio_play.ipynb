{
 "cells": [
  {
   "cell_type": "markdown",
   "metadata": {},
   "source": [
    "## 本地音频播放"
   ]
  },
  {
   "cell_type": "markdown",
   "metadata": {},
   "source": [
    "### (1) 读取音频文件到bytes"
   ]
  },
  {
   "cell_type": "code",
   "execution_count": 9,
   "metadata": {},
   "outputs": [
    {
     "name": "stdout",
     "output_type": "stream",
     "text": [
      "Audio file loaded.\n",
      "<class 'bytes'>\n"
     ]
    }
   ],
   "source": [
    "from takway.audio_utils import BaseAudio\n",
    "\n",
    "ba = BaseAudio(input=True)\n",
    "frames = ba.load_audio_file(\"example_recording.wav\") # wav或pcm格式音频都支持\n",
    "print(type(frames))"
   ]
  },
  {
   "cell_type": "markdown",
   "metadata": {},
   "source": [
    "### (2) 播放音频"
   ]
  },
  {
   "cell_type": "code",
   "execution_count": 10,
   "metadata": {},
   "outputs": [
    {
     "name": "stdout",
     "output_type": "stream",
     "text": [
      "Playing audio data...\n",
      "Audio data played.\n"
     ]
    }
   ],
   "source": [
    "from takway.audio_utils import AudioPlayer\n",
    "\n",
    "# 需要指定RATE, 默认为22050\n",
    "audio_player = AudioPlayer(RATE=16000)\n",
    "audio_player.play(frames)"
   ]
  },
  {
   "cell_type": "code",
   "execution_count": null,
   "metadata": {},
   "outputs": [],
   "source": []
  }
 ],
 "metadata": {
  "kernelspec": {
   "display_name": "vits",
   "language": "python",
   "name": "python3"
  },
  "language_info": {
   "codemirror_mode": {
    "name": "ipython",
    "version": 3
   },
   "file_extension": ".py",
   "mimetype": "text/x-python",
   "name": "python",
   "nbconvert_exporter": "python",
   "pygments_lexer": "ipython3",
   "version": "3.8.18"
  }
 },
 "nbformat": 4,
 "nbformat_minor": 2
}
