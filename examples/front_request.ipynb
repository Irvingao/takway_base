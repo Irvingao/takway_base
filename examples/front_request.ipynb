{
 "cells": [
  {
   "cell_type": "markdown",
   "metadata": {},
   "source": [
    "## 后端请求样例代码\n",
    "\n",
    "APIFox样例生成：\n",
    "- 参考[飞书文档](https://yi0hfds406j.feishu.cn/docx/G9FmdGINTox2NmxhJqvcNspinrd#Ph3NdZ2IMobjJ5xf4J3cBpqInCe)"
   ]
  },
  {
   "cell_type": "code",
   "execution_count": 16,
   "metadata": {},
   "outputs": [],
   "source": [
    "base_url = \"http://121.41.224.27:8000\""
   ]
  },
  {
   "cell_type": "markdown",
   "metadata": {},
   "source": [
    "### 1. 创建角色"
   ]
  },
  {
   "cell_type": "code",
   "execution_count": 11,
   "metadata": {},
   "outputs": [
    {
     "name": "stdout",
     "output_type": "stream",
     "text": [
      "Internal Server Error\n"
     ]
    }
   ],
   "source": [
    "import requests\n",
    "import json\n",
    "\n",
    "url = base_url + \"/characters/\"\n",
    "\n",
    "payload = json.dumps({\n",
    "   \"char_id\": 0,\n",
    "   \"voice_id\": 0,\n",
    "   \"char_name\": \"string\",\n",
    "   \"wakeup_words\": \"string\",\n",
    "   \"world_scenario\": \"string\",\n",
    "   \"description\": \"string\",\n",
    "   \"emojis\": [\n",
    "      None\n",
    "   ],\n",
    "   \"dialogues\": \"string\"\n",
    "})\n",
    "headers = {\n",
    "   'User-Agent': 'Apifox/1.0.0 (https://apifox.com)',\n",
    "   'Content-Type': 'application/json'\n",
    "}\n",
    "\n",
    "response = requests.request(\"POST\", url, headers=headers, data=payload)\n",
    "\n",
    "print(response.text)"
   ]
  },
  {
   "cell_type": "markdown",
   "metadata": {},
   "source": [
    "### 2. 查询角色信息"
   ]
  },
  {
   "cell_type": "code",
   "execution_count": 21,
   "metadata": {},
   "outputs": [
    {
     "name": "stdout",
     "output_type": "stream",
     "text": [
      "{\"detail\":\"Character not found\"}\n"
     ]
    }
   ],
   "source": [
    "import requests\n",
    "\n",
    "url = base_url + \"/characters/0\"\n",
    "\n",
    "payload={}\n",
    "headers = {\n",
    "   'User-Agent': 'Apifox/1.0.0 (https://apifox.com)'\n",
    "}\n",
    "\n",
    "response = requests.request(\"GET\", url, headers=headers, data=payload)\n",
    "\n",
    "print(response.text)\n"
   ]
  },
  {
   "cell_type": "markdown",
   "metadata": {},
   "source": [
    "### 3. 更新角色信息\n",
    "- 有bug，待修复"
   ]
  },
  {
   "cell_type": "code",
   "execution_count": 18,
   "metadata": {},
   "outputs": [
    {
     "name": "stdout",
     "output_type": "stream",
     "text": [
      "{\"detail\":\"Method Not Allowed\"}\n"
     ]
    }
   ],
   "source": [
    "import requests\n",
    "import json\n",
    "\n",
    "url = base_url + \"/characters/\"\n",
    "\n",
    "payload = json.dumps({\n",
    "   \"char_id\": 0,\n",
    "   \"voice_id\": 333,\n",
    "   \"char_name\": \"string\",\n",
    "   \"wakeup_words\": \"Hhahah\",\n",
    "   \"world_scenario\": \"string\",\n",
    "   \"description\": \"string\",\n",
    "   \"emojis\": [\n",
    "      'None'\n",
    "   ],\n",
    "   \"dialogues\": \"string\"\n",
    "})\n",
    "headers = {\n",
    "   'User-Agent': 'Apifox/1.0.0 (https://apifox.com)',\n",
    "   'Content-Type': 'application/json'\n",
    "}\n",
    "\n",
    "response = requests.request(\"PUT\", url, headers=headers, data=payload)\n",
    "\n",
    "print(response.text)"
   ]
  },
  {
   "cell_type": "markdown",
   "metadata": {},
   "source": [
    "### 4. 删除角色信息"
   ]
  },
  {
   "cell_type": "code",
   "execution_count": 20,
   "metadata": {},
   "outputs": [
    {
     "name": "stdout",
     "output_type": "stream",
     "text": [
      "{\"char_id\":0,\"voice_id\":0,\"char_name\":\"string\",\"wakeup_words\":\"string\",\"world_scenario\":\"string\",\"description\":\"string\",\"emojis\":[null],\"dialogues\":\"string\"}\n"
     ]
    }
   ],
   "source": [
    "import requests\n",
    "\n",
    "url = base_url + \"/characters/0\"\n",
    "\n",
    "payload={}\n",
    "headers = {\n",
    "   'User-Agent': 'Apifox/1.0.0 (https://apifox.com)'\n",
    "}\n",
    "\n",
    "response = requests.request(\"DELETE\", url, headers=headers, data=payload)\n",
    "\n",
    "print(response.text)"
   ]
  },
  {
   "cell_type": "markdown",
   "metadata": {},
   "source": [
    "### 5. 创建session"
   ]
  },
  {
   "cell_type": "code",
   "execution_count": 22,
   "metadata": {},
   "outputs": [
    {
     "name": "stdout",
     "output_type": "stream",
     "text": [
      "{\"session_id\":\"899d053b-5081-491f-9640-86eec2de40cc\",\"uid\":\"string\",\"messages\":[],\"user_info\":{},\"char_id\":0,\"token\":0}\n"
     ]
    }
   ],
   "source": [
    "import requests\n",
    "import json\n",
    "\n",
    "url = base_url + \"/session\"\n",
    "\n",
    "payload = json.dumps({\n",
    "   \"uid\": \"string\",\n",
    "   \"char_id\": 0\n",
    "})\n",
    "headers = {\n",
    "   'User-Agent': 'Apifox/1.0.0 (https://apifox.com)',\n",
    "   'Content-Type': 'application/json'\n",
    "}\n",
    "\n",
    "response = requests.request(\"POST\", url, headers=headers, data=payload)\n",
    "\n",
    "print(response.text)"
   ]
  },
  {
   "cell_type": "markdown",
   "metadata": {},
   "source": [
    "6. 根据seesion_id获取seesion信息"
   ]
  },
  {
   "cell_type": "code",
   "execution_count": 25,
   "metadata": {},
   "outputs": [
    {
     "name": "stdout",
     "output_type": "stream",
     "text": [
      "{\"session_id\":\"899d053b-5081-491f-9640-86eec2de40cc\",\"uid\":\"string\",\"messages\":[],\"user_info\":{},\"char_id\":0,\"token\":0}\n"
     ]
    }
   ],
   "source": [
    "import requests\n",
    "\n",
    "url = base_url + \"/session/899d053b-5081-491f-9640-86eec2de40cc\"\n",
    "\n",
    "payload={}\n",
    "headers = {\n",
    "   'User-Agent': 'Apifox/1.0.0 (https://apifox.com)'\n",
    "}\n",
    "\n",
    "response = requests.request(\"GET\", url, headers=headers, data=payload)\n",
    "\n",
    "print(response.text)"
   ]
  },
  {
   "cell_type": "markdown",
   "metadata": {},
   "source": [
    "## 2. 发送文本请求"
   ]
  },
  {
   "cell_type": "code",
   "execution_count": null,
   "metadata": {},
   "outputs": [],
   "source": [
    "import requests\n",
    "\n",
    "# 定义会话服务的URL\n",
    "url = \"http://121.41.224.27:8000/chat\"\n",
    "\n",
    "text_message = \"你好\"\n",
    "# 构建请求体\n",
    "chat_data = {\n",
    "    \"text\": text_message,\n",
    "    \"meta_info\": json.dumps({\"uid\": uid, \"voice_synthesize\": False}),\n",
    "    \"audio\": None\n",
    "}\n",
    "\n",
    "# 发送文本POST请求\n",
    "text_response = requests.post(\n",
    "    url=url,\n",
    "    headers={\"Content-Type\": \"application/x-www-form-urlencoded\"},\n",
    "    data=chat_data\n",
    ")\n",
    "\n",
    "# 检查响应状态码\n",
    "if text_response.status_code == 200:\n",
    "    # 打印响应内容\n",
    "    print(text_response.json())\n",
    "else:\n",
    "    # 打印错误信息\n",
    "    print(f\"Error: {text_response.status_code}\")"
   ]
  },
  {
   "cell_type": "markdown",
   "metadata": {},
   "source": [
    "## 3. 发送语音wav请求（code有问题，待修复）"
   ]
  },
  {
   "cell_type": "code",
   "execution_count": null,
   "metadata": {},
   "outputs": [],
   "source": [
    "import requests\n",
    "\n",
    "# 假设'my_recording.wav'是文件系统中的一个有效文件路径\n",
    "audio_file_path = 'example_recording.wav'\n",
    "\n",
    "# 读取语音文件内容\n",
    "with open(audio_file_path, 'rb') as audio_file:\n",
    "    audio_data = audio_file.read()\n",
    "\n",
    "# 构建请求体\n",
    "chat_data = {\n",
    "    'meta_info': json.dumps({\"uid\": \"some_unique_id\", \"voice_synthesize\": False})\n",
    "}\n",
    "\n",
    "\n",
    "# 构建请求头\n",
    "headers = {\n",
    "    # session_id \n",
    "}\n",
    "\n",
    "# 构建请求体\n",
    "payload = {\n",
    "    'audio': ('my_recording.wav', audio_data, 'audio/wav'),\n",
    "    'text': (None, None),  # 如果不需要发送文本，可以省略这部分\n",
    "    'meta_info': (None, json.dumps(chat_data), 'application/json')\n",
    "}\n",
    "\n",
    "# 发送语音文件POST请求\n",
    "audio_response = requests.post(\n",
    "    url=url,\n",
    "    headers=headers,\n",
    "    files=payload,\n",
    "    stream=True\n",
    ")\n",
    "\n",
    "# 打印语音响应\n",
    "print(audio_response.json())"
   ]
  },
  {
   "cell_type": "code",
   "execution_count": null,
   "metadata": {},
   "outputs": [],
   "source": []
  }
 ],
 "metadata": {
  "kernelspec": {
   "display_name": "vits",
   "language": "python",
   "name": "python3"
  },
  "language_info": {
   "codemirror_mode": {
    "name": "ipython",
    "version": 3
   },
   "file_extension": ".py",
   "mimetype": "text/x-python",
   "name": "python",
   "nbconvert_exporter": "python",
   "pygments_lexer": "ipython3",
   "version": "3.8.18"
  }
 },
 "nbformat": 4,
 "nbformat_minor": 2
}
