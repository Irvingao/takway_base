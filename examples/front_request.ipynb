{
 "cells": [
  {
   "cell_type": "markdown",
   "metadata": {},
   "source": [
    "## 后端请求样例代码\n",
    "\n",
    "APIFox样例生成：\n",
    "- 参考[飞书文档](https://yi0hfds406j.feishu.cn/docx/G9FmdGINTox2NmxhJqvcNspinrd#Ph3NdZ2IMobjJ5xf4J3cBpqInCe)"
   ]
  },
  {
   "cell_type": "code",
   "execution_count": 7,
   "metadata": {},
   "outputs": [],
   "source": [
    "base_url = \"http://121.41.224.27:8000\""
   ]
  },
  {
   "cell_type": "markdown",
   "metadata": {},
   "source": [
    "### 1. 创建角色"
   ]
  },
  {
   "cell_type": "code",
   "execution_count": 4,
   "metadata": {},
   "outputs": [
    {
     "name": "stdout",
     "output_type": "stream",
     "text": [
      "Internal Server Error\n"
     ]
    }
   ],
   "source": [
    "import requests\n",
    "import json\n",
    "\n",
    "url = base_url + \"/characters/\"\n",
    "\n",
    "payload = json.dumps({\n",
    "   \"char_id\": 0,\n",
    "   \"voice_id\": 0,\n",
    "   \"char_name\": \"string\",\n",
    "   \"wakeup_words\": \"string\",\n",
    "   \"world_scenario\": \"string\",\n",
    "   \"description\": \"string\",\n",
    "   \"emojis\": [\n",
    "      None\n",
    "   ],\n",
    "   \"dialogues\": \"string\"\n",
    "})\n",
    "headers = {\n",
    "   'User-Agent': 'Apifox/1.0.0 (https://apifox.com)',\n",
    "   'Content-Type': 'application/json'\n",
    "}\n",
    "\n",
    "response = requests.request(\"POST\", url, headers=headers, data=payload)\n",
    "\n",
    "print(response.text)"
   ]
  },
  {
   "cell_type": "markdown",
   "metadata": {},
   "source": [
    "### 2. 查询角色信息"
   ]
  },
  {
   "cell_type": "code",
   "execution_count": 5,
   "metadata": {},
   "outputs": [
    {
     "name": "stdout",
     "output_type": "stream",
     "text": [
      "{\"detail\":\"Character not found\"}\n"
     ]
    }
   ],
   "source": [
    "import requests\n",
    "\n",
    "url = base_url + \"/characters/0\"\n",
    "\n",
    "payload={}\n",
    "headers = {\n",
    "   'User-Agent': 'Apifox/1.0.0 (https://apifox.com)'\n",
    "}\n",
    "\n",
    "response = requests.request(\"GET\", url, headers=headers, data=payload)\n",
    "\n",
    "print(response.text)\n"
   ]
  },
  {
   "cell_type": "markdown",
   "metadata": {},
   "source": [
    "### 3. 更新角色信息\n",
    "- 有bug，待修复"
   ]
  },
  {
   "cell_type": "code",
   "execution_count": 6,
   "metadata": {},
   "outputs": [
    {
     "name": "stdout",
     "output_type": "stream",
     "text": [
      "{\"detail\":\"Method Not Allowed\"}\n"
     ]
    }
   ],
   "source": [
    "import requests\n",
    "import json\n",
    "\n",
    "url = base_url + \"/characters/\"\n",
    "\n",
    "payload = json.dumps({\n",
    "   \"char_id\": 0,\n",
    "   \"voice_id\": 333,\n",
    "   \"char_name\": \"string\",\n",
    "   \"wakeup_words\": \"Hhahah\",\n",
    "   \"world_scenario\": \"string\",\n",
    "   \"description\": \"string\",\n",
    "   \"emojis\": [\n",
    "      'None'\n",
    "   ],\n",
    "   \"dialogues\": \"string\"\n",
    "})\n",
    "headers = {\n",
    "   'User-Agent': 'Apifox/1.0.0 (https://apifox.com)',\n",
    "   'Content-Type': 'application/json'\n",
    "}\n",
    "\n",
    "response = requests.request(\"PUT\", url, headers=headers, data=payload)\n",
    "\n",
    "print(response.text)"
   ]
  },
  {
   "cell_type": "markdown",
   "metadata": {},
   "source": [
    "### 4. 删除角色信息"
   ]
  },
  {
   "cell_type": "code",
   "execution_count": 20,
   "metadata": {},
   "outputs": [
    {
     "name": "stdout",
     "output_type": "stream",
     "text": [
      "{\"char_id\":0,\"voice_id\":0,\"char_name\":\"string\",\"wakeup_words\":\"string\",\"world_scenario\":\"string\",\"description\":\"string\",\"emojis\":[null],\"dialogues\":\"string\"}\n"
     ]
    }
   ],
   "source": [
    "import requests\n",
    "\n",
    "url = base_url + \"/characters/0\"\n",
    "\n",
    "payload={}\n",
    "headers = {\n",
    "   'User-Agent': 'Apifox/1.0.0 (https://apifox.com)'\n",
    "}\n",
    "\n",
    "response = requests.request(\"DELETE\", url, headers=headers, data=payload)\n",
    "\n",
    "print(response.text)"
   ]
  },
  {
   "cell_type": "markdown",
   "metadata": {},
   "source": [
    "### 5. 创建session"
   ]
  },
  {
   "cell_type": "code",
   "execution_count": 22,
   "metadata": {},
   "outputs": [
    {
     "name": "stdout",
     "output_type": "stream",
     "text": [
      "{\"session_id\":\"899d053b-5081-491f-9640-86eec2de40cc\",\"uid\":\"string\",\"messages\":[],\"user_info\":{},\"char_id\":0,\"token\":0}\n"
     ]
    }
   ],
   "source": [
    "import requests\n",
    "import json\n",
    "\n",
    "url = base_url + \"/session\"\n",
    "\n",
    "payload = json.dumps({\n",
    "   \"uid\": \"string\",\n",
    "   \"char_id\": 0\n",
    "})\n",
    "headers = {\n",
    "   'User-Agent': 'Apifox/1.0.0 (https://apifox.com)',\n",
    "   'Content-Type': 'application/json'\n",
    "}\n",
    "\n",
    "response = requests.request(\"POST\", url, headers=headers, data=payload)\n",
    "\n",
    "print(response.text)"
   ]
  },
  {
   "cell_type": "markdown",
   "metadata": {},
   "source": [
    "### 6. 根据seesion_id获取seesion信息"
   ]
  },
  {
   "cell_type": "code",
   "execution_count": 25,
   "metadata": {},
   "outputs": [
    {
     "name": "stdout",
     "output_type": "stream",
     "text": [
      "{\"session_id\":\"899d053b-5081-491f-9640-86eec2de40cc\",\"uid\":\"string\",\"messages\":[],\"user_info\":{},\"char_id\":0,\"token\":0}\n"
     ]
    }
   ],
   "source": [
    "import requests\n",
    "\n",
    "url = base_url + \"/session/899d053b-5081-491f-9640-86eec2de40cc\"\n",
    "\n",
    "payload={}\n",
    "headers = {\n",
    "   'User-Agent': 'Apifox/1.0.0 (https://apifox.com)'\n",
    "}\n",
    "\n",
    "response = requests.request(\"GET\", url, headers=headers, data=payload)\n",
    "\n",
    "print(response.text)"
   ]
  },
  {
   "cell_type": "markdown",
   "metadata": {},
   "source": [
    "### 7. 发送聊天请求\n",
    "\n",
    "#### (1) 发送文本请求"
   ]
  },
  {
   "cell_type": "code",
   "execution_count": 3,
   "metadata": {},
   "outputs": [
    {
     "ename": "NameError",
     "evalue": "name 'uid' is not defined",
     "output_type": "error",
     "traceback": [
      "\u001b[1;31m---------------------------------------------------------------------------\u001b[0m",
      "\u001b[1;31mNameError\u001b[0m                                 Traceback (most recent call last)",
      "Cell \u001b[1;32mIn[3], line 11\u001b[0m\n\u001b[0;32m      7\u001b[0m text_message \u001b[38;5;241m=\u001b[39m \u001b[38;5;124m\"\u001b[39m\u001b[38;5;124m你好\u001b[39m\u001b[38;5;124m\"\u001b[39m\n\u001b[0;32m      8\u001b[0m \u001b[38;5;66;03m# 构建请求体\u001b[39;00m\n\u001b[0;32m      9\u001b[0m chat_data \u001b[38;5;241m=\u001b[39m {\n\u001b[0;32m     10\u001b[0m     \u001b[38;5;124m\"\u001b[39m\u001b[38;5;124mtext\u001b[39m\u001b[38;5;124m\"\u001b[39m: text_message,\n\u001b[1;32m---> 11\u001b[0m     \u001b[38;5;124m\"\u001b[39m\u001b[38;5;124mmeta_info\u001b[39m\u001b[38;5;124m\"\u001b[39m: json\u001b[38;5;241m.\u001b[39mdumps({\u001b[38;5;124m\"\u001b[39m\u001b[38;5;124muid\u001b[39m\u001b[38;5;124m\"\u001b[39m: \u001b[43muid\u001b[49m, \u001b[38;5;124m\"\u001b[39m\u001b[38;5;124mvoice_synthesize\u001b[39m\u001b[38;5;124m\"\u001b[39m: \u001b[38;5;28;01mFalse\u001b[39;00m}),\n\u001b[0;32m     12\u001b[0m     \u001b[38;5;124m\"\u001b[39m\u001b[38;5;124maudio\u001b[39m\u001b[38;5;124m\"\u001b[39m: \u001b[38;5;28;01mNone\u001b[39;00m\n\u001b[0;32m     13\u001b[0m }\n\u001b[0;32m     15\u001b[0m \u001b[38;5;66;03m# 发送文本POST请求\u001b[39;00m\n\u001b[0;32m     16\u001b[0m text_response \u001b[38;5;241m=\u001b[39m requests\u001b[38;5;241m.\u001b[39mpost(\n\u001b[0;32m     17\u001b[0m     url\u001b[38;5;241m=\u001b[39murl,\n\u001b[0;32m     18\u001b[0m     headers\u001b[38;5;241m=\u001b[39m{\u001b[38;5;124m\"\u001b[39m\u001b[38;5;124mContent-Type\u001b[39m\u001b[38;5;124m\"\u001b[39m: \u001b[38;5;124m\"\u001b[39m\u001b[38;5;124mapplication/x-www-form-urlencoded\u001b[39m\u001b[38;5;124m\"\u001b[39m},\n\u001b[0;32m     19\u001b[0m     data\u001b[38;5;241m=\u001b[39mchat_data\n\u001b[0;32m     20\u001b[0m )\n",
      "\u001b[1;31mNameError\u001b[0m: name 'uid' is not defined"
     ]
    }
   ],
   "source": [
    "import requests\n",
    "import json\n",
    "\n",
    "# 定义会话服务的URL\n",
    "url = \"http://121.41.224.27:8000/chat\"\n",
    "\n",
    "text_message = \"你好\"\n",
    "# 构建请求体\n",
    "chat_data = {\n",
    "    \"text\": text_message,\n",
    "    \"meta_info\": json.dumps({\"uid\": uid, \"voice_synthesize\": False}),\n",
    "    \"audio\": None\n",
    "}\n",
    "\n",
    "# 发送文本POST请求\n",
    "text_response = requests.post(\n",
    "    url=url,\n",
    "    headers={\"Content-Type\": \"application/x-www-form-urlencoded\"},\n",
    "    data=chat_data\n",
    ")\n",
    "\n",
    "# 检查响应状态码\n",
    "if text_response.status_code == 200:\n",
    "    # 打印响应内容\n",
    "    print(text_response.json())\n",
    "else:\n",
    "    # 打印错误信息\n",
    "    print(f\"Error: {text_response.status_code}\")"
   ]
  },
  {
   "cell_type": "markdown",
   "metadata": {},
   "source": [
    "#### (2) 发送语音wav请求（code有问题，待修复）"
   ]
  },
  {
   "cell_type": "code",
   "execution_count": 20,
   "metadata": {},
   "outputs": [
    {
     "name": "stdout",
     "output_type": "stream",
     "text": [
      "Status Code: 200\n",
      "Response: {\"code\":200,\"audio_path\":\"https://minimax-algeng-chat-tts.oss-cn-wulanchabu.aliyuncs.com/audio%2Ftts-mp3-20240413140702-sCmpeENk.mp3?Expires=1713103623&OSSAccessKeyId=LTAI5tGLnRTkBjLuYPjNcKQ8&Signature=KR3eyo8T2vbY9RJ2dkokY4C4cHE%3D\"}\n"
     ]
    }
   ],
   "source": [
    "import requests\n",
    "import base64\n",
    "\n",
    "# 指定IP地址和端口\n",
    "ip_address = \"121.41.224.27\"\n",
    "port = 8000\n",
    "url = f\"http://{ip_address}:{port}/chat_http\"\n",
    "\n",
    "# 假设'my_recording.wav'是文件系统中的一个有效文件路径\n",
    "# audio_file_path = 'example_recording.wav'\n",
    "audio_file_path = 'my_recording.pcm'\n",
    "# audio_file_path = 'iat_pcm_16k.pcm'  # 替换为你的MP3文件路径\n",
    "\n",
    "# 读取语音文件内容\n",
    "with open(audio_file_path, 'rb') as audio_file:\n",
    "    audio_data = audio_file.read()\n",
    "    audio_base64_encoded = base64.b64encode(audio_data).decode('utf-8')\n",
    "\n",
    "# 构建请求头\n",
    "headers = {\n",
    "    # session_id \n",
    "}\n",
    "\n",
    "# 设置请求参数\n",
    "format_param = \"wav\"\n",
    "rate_param = 16000\n",
    "session_id_param = \"87ffda98-0c33-4bdf-826b-57a3be336351\"\n",
    "\n",
    "\n",
    "# 构建请求数据\n",
    "data = {\n",
    "    \"format\": format_param,\n",
    "    \"rate\": rate_param,\n",
    "    \"session_id\": session_id_param,\n",
    "    \"speech\": audio_base64_encoded\n",
    "}\n",
    "\n",
    "# 发送POST请求\n",
    "response = requests.post(url, json=data)\n",
    "\n",
    "# 打印响应内容\n",
    "print(f\"Status Code: {response.status_code}\")\n",
    "print(f\"Response: {response.text}\")"
   ]
  },
  {
   "cell_type": "code",
   "execution_count": null,
   "metadata": {},
   "outputs": [],
   "source": []
  }
 ],
 "metadata": {
  "kernelspec": {
   "display_name": "vits",
   "language": "python",
   "name": "python3"
  },
  "language_info": {
   "codemirror_mode": {
    "name": "ipython",
    "version": 3
   },
   "file_extension": ".py",
   "mimetype": "text/x-python",
   "name": "python",
   "nbconvert_exporter": "python",
   "pygments_lexer": "ipython3",
   "version": "3.8.18"
  }
 },
 "nbformat": 4,
 "nbformat_minor": 2
}
